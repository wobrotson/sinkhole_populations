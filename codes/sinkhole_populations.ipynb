{
 "cells": [
  {
   "cell_type": "markdown",
   "metadata": {},
   "source": [
    "## Workbench for analysing sinkhole population data at the Dead Sea"
   ]
  },
  {
   "cell_type": "markdown",
   "metadata": {},
   "source": [
    "### read data"
   ]
  },
  {
   "cell_type": "code",
   "execution_count": 38,
   "metadata": {},
   "outputs": [
    {
     "name": "stdout",
     "output_type": "stream",
     "text": [
      "Ze'elim:\n",
      "          year  cum_no_holes\n",
      "0  1999.966755      0.418240\n",
      "1  2002.759309     10.740664\n",
      "2  2003.573803     20.655086\n",
      "3  2004.900266     25.448267\n",
      "4  2005.877660     26.568447\n",
      "Western Total:\n",
      "          year  cum_no_holes\n",
      "0  1980.000000      0.000000\n",
      "1  1996.848404    223.470550\n",
      "2  1999.966755    414.739580\n",
      "3  2002.014628    752.411946\n",
      "4  2002.736037    851.536665\n",
      "Ghor Al-Haditha:\n",
      "   year  holes\n",
      "0  1985      7\n",
      "1  1986      2\n",
      "2  1992     19\n",
      "3  1994     37\n",
      "4  1995      6\n"
     ]
    }
   ],
   "source": [
    "import pandas as pd\n",
    "import numpy as np\n",
    "\n",
    "# all holes at zeelim, digitised from Avni et al 2016\n",
    "zeelim = pd.read_csv('../data/DeadSeaWestHolesZeelim.csv', header=None) \n",
    "\n",
    "# all western holes except zeelim, digitised from Avni et al 2016\n",
    "DS_west_all = pd.read_csv('../data/DeadSeaWestHolesTotal.csv', header=None) \n",
    "\n",
    "# all holes at GAH, my own work\n",
    "GAH = pd.read_csv('../data/SH_total.txt', sep=\"\\t\", header=None) #\\t sep = tab delimited\n",
    "#GAH = pd.read_fwf('../data/SH_total.txt') # load txt file using read_fwf (fwf = fixed width formatted)\n",
    "\n",
    "# name columns\n",
    "zeelim.columns = [\"year\", \"cum_no_holes\"]\n",
    "DS_west_all.columns = [\"year\", \"cum_no_holes\"]\n",
    "GAH.columns = [\"year\", \"holes\"] # holes in that year rather than cumulative no. holes\n",
    "\n",
    "print('Ze\\'elim:', zeelim.head(), sep='\\n')\n",
    "print('Western Total:', DS_west_all.head(), sep='\\n')\n",
    "print('Ghor Al-Haditha:', GAH.head(), sep='\\n');"
   ]
  },
  {
   "cell_type": "markdown",
   "metadata": {},
   "source": [
    "### clean data"
   ]
  },
  {
   "cell_type": "code",
   "execution_count": 66,
   "metadata": {},
   "outputs": [
    {
     "name": "stdout",
     "output_type": "stream",
     "text": [
      "Ze'elim:\n",
      "     year  cum_no_holes  holes\n",
      "0  2000.0           0.0    0.0\n",
      "1  2003.0          11.0   11.0\n",
      "2  2004.0          21.0   10.0\n",
      "3  2005.0          25.0    4.0\n",
      "4  2006.0          27.0    2.0\n",
      "Western Total:\n",
      "     year  cum_no_holes  holes\n",
      "0  1980.0           0.0    0.0\n",
      "1  1997.0         223.0  223.0\n",
      "2  2000.0         415.0  192.0\n",
      "3  2002.0         752.0  337.0\n",
      "4  2003.0         852.0  100.0\n"
     ]
    }
   ],
   "source": [
    "# round values in zeelim and DS west to integers\n",
    "zeelim = zeelim.round()\n",
    "DS_west_all = DS_west_all.round()\n",
    "\n",
    "# reverse cumulative nature of western data to get number of holes per year\n",
    "def reverseCum(df):\n",
    "    cumulative = df['cum_no_holes']\n",
    "    output = [0] * len(cumulative)\n",
    "    for i in range(0, len(cumulative)-1):\n",
    "        output[(i+1)] = cumulative[(i+1)] - cumulative[(i)]\n",
    "    output[0] = cumulative[0]\n",
    "    df['holes'] = output\n",
    "    return output\n",
    "\n",
    "output1 = reverseCum(zeelim)\n",
    "output2 = reverseCum(DS_west_all)\n",
    "\n",
    "print('Ze\\'elim:', zeelim.head(), sep='\\n')\n",
    "print('Western Total:', DS_west_all.head(), sep='\\n')\n",
    "\n",
    "# resample and interpolate data as appropriate\n",
    "\n",
    "# create column for cumulative and non-cumulative holes as appropriate\n"
   ]
  },
  {
   "cell_type": "markdown",
   "metadata": {},
   "source": [
    "### plot data"
   ]
  },
  {
   "cell_type": "code",
   "execution_count": null,
   "metadata": {},
   "outputs": [],
   "source": []
  }
 ],
 "metadata": {
  "kernelspec": {
   "display_name": "Python 3",
   "language": "python",
   "name": "python3"
  },
  "language_info": {
   "codemirror_mode": {
    "name": "ipython",
    "version": 3
   },
   "file_extension": ".py",
   "mimetype": "text/x-python",
   "name": "python",
   "nbconvert_exporter": "python",
   "pygments_lexer": "ipython3",
   "version": "3.7.4"
  }
 },
 "nbformat": 4,
 "nbformat_minor": 2
}
